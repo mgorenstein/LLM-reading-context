{
 "cells": [
  {
   "cell_type": "markdown",
   "id": "0910c7bf",
   "metadata": {},
   "source": [
    "# word predictability beyond the solitary sentence\n",
    "\n",
    "Here we evaluate whether predictions of word-level reading time can be improved by including longer spans of preceding text as context for the computation of surprisal. \n",
    "\n",
    "We follow previous [analyses](https://arxiv.org/pdf/2006.01912.pdf) on the [natural stories](https://github.com/languageMIT/naturalstories) corpus, and report changes in word-level log likelihood.\n",
    "\n",
    "We show that models including more context show a delta-LL boost relative to models using just the sentence a word appears in that's comparable to the improvement one sees moving from an n-gram model to a Transformer-based LM. \n",
    "\n",
    "In other words, people's reading times integrate longer context windows, and our modeling of online sentence processing should reflect this fact!"
   ]
  },
  {
   "cell_type": "code",
   "execution_count": 1,
   "id": "5895e708",
   "metadata": {},
   "outputs": [],
   "source": [
    "from transformers import GPT2LMHeadModel, GPT2TokenizerFast\n",
    "import torch\n",
    "import numpy as np\n",
    "import nltk.data\n",
    "import pandas as pd\n",
    "from nltk.tokenize import sent_tokenize"
   ]
  },
  {
   "cell_type": "markdown",
   "id": "5ea54f42",
   "metadata": {},
   "source": [
    "# boring pre-processing"
   ]
  },
  {
   "cell_type": "code",
   "execution_count": 2,
   "id": "3b402810",
   "metadata": {},
   "outputs": [],
   "source": [
    "tokenizer = GPT2TokenizerFast.from_pretrained(\"gpt2\")\n",
    "model = GPT2LMHeadModel.from_pretrained(\"gpt2\")"
   ]
  },
  {
   "cell_type": "code",
   "execution_count": 8,
   "id": "4d5acff0",
   "metadata": {},
   "outputs": [],
   "source": [
    "# NATURAL STORIES\n",
    "stories = pd.read_csv(\"./natural-stories/all_stories.tok\", sep = \"\\t\")\n",
    "story_text = \" \".join([x for x in stories[\"word\"]])\n",
    "sentences = sent_tokenize(story_text)"
   ]
  },
  {
   "cell_type": "code",
   "execution_count": 9,
   "id": "c8f717c8",
   "metadata": {},
   "outputs": [],
   "source": [
    "sent_idxs = []\n",
    "word_idxs = []\n",
    "current_sent_idx = 0\n",
    "last_word_idx = 0\n",
    "\n",
    "for word in stories[\"word\"]:\n",
    "    if last_word_idx == len(sentences[current_sent_idx]):\n",
    "        current_sent_idx += 1\n",
    "        last_word_idx = 0\n",
    "    \n",
    "    sent = sentences[current_sent_idx]\n",
    "    start = sent.find(word, last_word_idx)\n",
    "    end = start + len(word)\n",
    "    last_word_idx = end\n",
    "    sent_idxs.append(current_sent_idx)\n",
    "    word_idxs.append((start, end))\n",
    "    assert(word == sent[start:end])\n",
    "\n",
    "stories['sentence_idx'] = sent_idxs\n",
    "stories['word_spans'] = word_idxs"
   ]
  },
  {
   "cell_type": "code",
   "execution_count": 10,
   "id": "4e69585e",
   "metadata": {},
   "outputs": [],
   "source": [
    "import string\n",
    "exclude = set(string.punctuation)\n",
    "stripped_words = []\n",
    "stripped_spans = []\n",
    "\n",
    "# iteratively remove punct from the start and end of the words, adjust span acccordingly\n",
    "for word, span in zip(stories.word, stories.word_spans):\n",
    "    start, end = span\n",
    "    while (word[0] in exclude) or (word[-1] in exclude):\n",
    "        if word[0] in exclude:\n",
    "            word = word[1:]\n",
    "            start += 1\n",
    "        if word[-1] in exclude:\n",
    "            word = word[:-1]\n",
    "            end -= 1\n",
    "    stripped_words.append(word)\n",
    "    stripped_spans.append((start, end))\n",
    "\n",
    "stories['stripped_spans'] = stripped_spans\n",
    "stories['stripped_words'] = stripped_words"
   ]
  },
  {
   "cell_type": "code",
   "execution_count": 11,
   "id": "c929a5c4",
   "metadata": {},
   "outputs": [
    {
     "data": {
      "text/html": [
       "<div>\n",
       "<style scoped>\n",
       "    .dataframe tbody tr th:only-of-type {\n",
       "        vertical-align: middle;\n",
       "    }\n",
       "\n",
       "    .dataframe tbody tr th {\n",
       "        vertical-align: top;\n",
       "    }\n",
       "\n",
       "    .dataframe thead th {\n",
       "        text-align: right;\n",
       "    }\n",
       "</style>\n",
       "<table border=\"1\" class=\"dataframe\">\n",
       "  <thead>\n",
       "    <tr style=\"text-align: right;\">\n",
       "      <th></th>\n",
       "      <th>word</th>\n",
       "      <th>zone</th>\n",
       "      <th>item</th>\n",
       "      <th>sentence_idx</th>\n",
       "      <th>word_spans</th>\n",
       "      <th>stripped_spans</th>\n",
       "      <th>stripped_words</th>\n",
       "    </tr>\n",
       "  </thead>\n",
       "  <tbody>\n",
       "    <tr>\n",
       "      <th>0</th>\n",
       "      <td>If</td>\n",
       "      <td>1</td>\n",
       "      <td>1</td>\n",
       "      <td>0</td>\n",
       "      <td>(0, 2)</td>\n",
       "      <td>(0, 2)</td>\n",
       "      <td>If</td>\n",
       "    </tr>\n",
       "    <tr>\n",
       "      <th>1</th>\n",
       "      <td>you</td>\n",
       "      <td>2</td>\n",
       "      <td>1</td>\n",
       "      <td>0</td>\n",
       "      <td>(3, 6)</td>\n",
       "      <td>(3, 6)</td>\n",
       "      <td>you</td>\n",
       "    </tr>\n",
       "    <tr>\n",
       "      <th>2</th>\n",
       "      <td>were</td>\n",
       "      <td>3</td>\n",
       "      <td>1</td>\n",
       "      <td>0</td>\n",
       "      <td>(7, 11)</td>\n",
       "      <td>(7, 11)</td>\n",
       "      <td>were</td>\n",
       "    </tr>\n",
       "    <tr>\n",
       "      <th>3</th>\n",
       "      <td>to</td>\n",
       "      <td>4</td>\n",
       "      <td>1</td>\n",
       "      <td>0</td>\n",
       "      <td>(12, 14)</td>\n",
       "      <td>(12, 14)</td>\n",
       "      <td>to</td>\n",
       "    </tr>\n",
       "    <tr>\n",
       "      <th>4</th>\n",
       "      <td>journey</td>\n",
       "      <td>5</td>\n",
       "      <td>1</td>\n",
       "      <td>0</td>\n",
       "      <td>(15, 22)</td>\n",
       "      <td>(15, 22)</td>\n",
       "      <td>journey</td>\n",
       "    </tr>\n",
       "    <tr>\n",
       "      <th>...</th>\n",
       "      <td>...</td>\n",
       "      <td>...</td>\n",
       "      <td>...</td>\n",
       "      <td>...</td>\n",
       "      <td>...</td>\n",
       "      <td>...</td>\n",
       "      <td>...</td>\n",
       "    </tr>\n",
       "    <tr>\n",
       "      <th>10251</th>\n",
       "      <td>and</td>\n",
       "      <td>935</td>\n",
       "      <td>10</td>\n",
       "      <td>496</td>\n",
       "      <td>(64, 67)</td>\n",
       "      <td>(64, 67)</td>\n",
       "      <td>and</td>\n",
       "    </tr>\n",
       "    <tr>\n",
       "      <th>10252</th>\n",
       "      <td>better</td>\n",
       "      <td>936</td>\n",
       "      <td>10</td>\n",
       "      <td>496</td>\n",
       "      <td>(68, 74)</td>\n",
       "      <td>(68, 74)</td>\n",
       "      <td>better</td>\n",
       "    </tr>\n",
       "    <tr>\n",
       "      <th>10253</th>\n",
       "      <td>treatments</td>\n",
       "      <td>937</td>\n",
       "      <td>10</td>\n",
       "      <td>496</td>\n",
       "      <td>(75, 85)</td>\n",
       "      <td>(75, 85)</td>\n",
       "      <td>treatments</td>\n",
       "    </tr>\n",
       "    <tr>\n",
       "      <th>10254</th>\n",
       "      <td>for</td>\n",
       "      <td>938</td>\n",
       "      <td>10</td>\n",
       "      <td>496</td>\n",
       "      <td>(86, 89)</td>\n",
       "      <td>(86, 89)</td>\n",
       "      <td>for</td>\n",
       "    </tr>\n",
       "    <tr>\n",
       "      <th>10255</th>\n",
       "      <td>Tourette's.</td>\n",
       "      <td>939</td>\n",
       "      <td>10</td>\n",
       "      <td>496</td>\n",
       "      <td>(90, 101)</td>\n",
       "      <td>(90, 100)</td>\n",
       "      <td>Tourette's</td>\n",
       "    </tr>\n",
       "  </tbody>\n",
       "</table>\n",
       "<p>10256 rows × 7 columns</p>\n",
       "</div>"
      ],
      "text/plain": [
       "              word  zone  item  sentence_idx word_spans stripped_spans  \\\n",
       "0               If     1     1             0     (0, 2)         (0, 2)   \n",
       "1              you     2     1             0     (3, 6)         (3, 6)   \n",
       "2             were     3     1             0    (7, 11)        (7, 11)   \n",
       "3               to     4     1             0   (12, 14)       (12, 14)   \n",
       "4          journey     5     1             0   (15, 22)       (15, 22)   \n",
       "...            ...   ...   ...           ...        ...            ...   \n",
       "10251          and   935    10           496   (64, 67)       (64, 67)   \n",
       "10252       better   936    10           496   (68, 74)       (68, 74)   \n",
       "10253   treatments   937    10           496   (75, 85)       (75, 85)   \n",
       "10254          for   938    10           496   (86, 89)       (86, 89)   \n",
       "10255  Tourette's.   939    10           496  (90, 101)      (90, 100)   \n",
       "\n",
       "      stripped_words  \n",
       "0                 If  \n",
       "1                you  \n",
       "2               were  \n",
       "3                 to  \n",
       "4            journey  \n",
       "...              ...  \n",
       "10251            and  \n",
       "10252         better  \n",
       "10253     treatments  \n",
       "10254            for  \n",
       "10255     Tourette's  \n",
       "\n",
       "[10256 rows x 7 columns]"
      ]
     },
     "execution_count": 11,
     "metadata": {},
     "output_type": "execute_result"
    }
   ],
   "source": [
    "stories"
   ]
  },
  {
   "cell_type": "code",
   "execution_count": 12,
   "id": "49dbac66",
   "metadata": {},
   "outputs": [],
   "source": [
    "sentence_spans = lambda sent_idx : list(stories[stories.sentence_idx == sent_idx].stripped_spans)\n",
    "sentence_words = lambda sent_idx : list(stories[stories.sentence_idx == sent_idx].stripped_words)"
   ]
  },
  {
   "cell_type": "code",
   "execution_count": 13,
   "id": "9eb45cff",
   "metadata": {},
   "outputs": [],
   "source": [
    "word_surprisals = []\n",
    "for sentence_idx, sentence in enumerate(sentences):\n",
    "    sent_words = sentence_words(sentence_idx)\n",
    "    inputs = tokenizer(sentence, return_tensors=\"pt\")\n",
    "    sent_tokens = inputs.tokens()\n",
    "    indexed_tokens = inputs['input_ids']\n",
    "    word_tokens = []\n",
    "    for span in sentence_spans(sentence_idx):\n",
    "        tokens = []\n",
    "        start, end = span\n",
    "        for char in range(start, end):\n",
    "            tokens.append(inputs.char_to_token(char))\n",
    "        word_tokens.append(list(set(tokens)))\n",
    "        \n",
    "    with torch.no_grad():\n",
    "        logprobs = model(**inputs, labels=indexed_tokens).logits.log_softmax(dim=2).squeeze()\n",
    "\n",
    "    logprobs = (None,) + logprobs.unbind()\n",
    "    surprisals = []\n",
    "    for i, token_idx in enumerate(indexed_tokens.squeeze()):\n",
    "        if logprobs[i] == None: \n",
    "            surprisal = 0\n",
    "        else:\n",
    "            # find the log prob of the actual token in the vocab at the ith sentence position\n",
    "            surprisal = -logprobs[i][token_idx].item() / torch.log(torch.tensor(2))\n",
    "        surprisals.append(float(surprisal))\n",
    "    \n",
    "    for tokens in word_tokens:\n",
    "        token_surprisals = [surprisals[token] for token in tokens]\n",
    "        word_surprisal = sum(token_surprisals)\n",
    "        word_surprisals.append(word_surprisal)\n",
    "\n",
    "stories['surprisals'] = word_surprisals"
   ]
  },
  {
   "cell_type": "code",
   "execution_count": 21,
   "id": "ef8fd4b6",
   "metadata": {},
   "outputs": [],
   "source": [
    "story_idxs = list(stories.item.unique())\n",
    "story_sentences = lambda story_idx : list(stories[stories.item==story_idx].sentence_idx.unique())"
   ]
  },
  {
   "cell_type": "code",
   "execution_count": 22,
   "id": "d0096c3b",
   "metadata": {},
   "outputs": [],
   "source": [
    "for n_back in range(1,11):\n",
    "    n_back_surprisals = []\n",
    "    for story in story_idxs:\n",
    "        sentence_idxs = story_sentences(story)\n",
    "        for i, sentence_idx in enumerate(sentence_idxs):\n",
    "            # first sentence of the story skipped\n",
    "            if i < n_back: n_back_surprisals += [None] * len(sentence_words(sentence_idx))\n",
    "            else:\n",
    "                current_sentence = sentences[sentence_idx]\n",
    "                prev_sentences = [sentences[sentence_idx - n_sent_back] for n_sent_back in range(1, n_back+1)]\n",
    "                combo_prev = ' '.join(prev_sentences)\n",
    "                combo_sentence = ' '.join([combo_prev, current_sentence])\n",
    "                offset = len(combo_prev) + 1\n",
    "\n",
    "                inputs = tokenizer(combo_sentence, return_tensors=\"pt\")\n",
    "                sent_tokens = inputs.tokens()\n",
    "                indexed_tokens = inputs['input_ids']\n",
    "                word_tokens = []\n",
    "                for span in sentence_spans(sentence_idx):\n",
    "                    tokens = []\n",
    "                    start, end = span\n",
    "                    start += offset\n",
    "                    end += offset\n",
    "                    for char in range(start, end):\n",
    "                        tokens.append(inputs.char_to_token(char))\n",
    "                    word_tokens.append(list(set(tokens)))\n",
    "\n",
    "                with torch.no_grad():\n",
    "                    logprobs = model(**inputs, labels=indexed_tokens).logits.log_softmax(dim=2).squeeze()\n",
    "\n",
    "                logprobs = (None,) + logprobs.unbind()\n",
    "                surprisals = []\n",
    "                for j, token_idx in enumerate(indexed_tokens.squeeze()):\n",
    "                    if logprobs[j] == None: \n",
    "                        surprisal = 0\n",
    "                    else:\n",
    "                        # find the log prob of the actual token in the vocab at the ith sentence position\n",
    "                        surprisal = -logprobs[j][token_idx].item() / torch.log(torch.tensor(2))\n",
    "                    surprisals.append(float(surprisal))\n",
    "\n",
    "                for tokens in word_tokens:\n",
    "                    token_surprisals = [surprisals[token] for token in tokens]\n",
    "                    word_surprisal = sum(token_surprisals)\n",
    "                    n_back_surprisals.append(word_surprisal)\n",
    "\n",
    "    stories['surprisals_%dback'%(n_back)] = n_back_surprisals"
   ]
  },
  {
   "cell_type": "code",
   "execution_count": 23,
   "id": "031f379f",
   "metadata": {},
   "outputs": [],
   "source": [
    "freqs = pd.read_csv('./natural-stories/freqs-3.tsv', sep='\\t', names=['id', 'n', 'token', 'n-gram-freq', 'n-minus-gram-freq'])\n",
    "id_splits = list(freqs.id.apply(lambda x: x.split('.')))\n",
    "\n",
    "freqs['story_id'] = [int(split[0]) for split in id_splits]\n",
    "freqs['word_id'] = [int(split[1]) for split in id_splits]\n",
    "freqs['word_part'] = [split[2] for split in id_splits]\n",
    "freqs['cond_prob'] = freqs['n-gram-freq'] / freqs['n-minus-gram-freq']\n",
    "freqs['ngram_surprisal'] = -np.log2(freqs['cond_prob']+1)"
   ]
  },
  {
   "cell_type": "code",
   "execution_count": 24,
   "id": "7fc9e7b4",
   "metadata": {},
   "outputs": [],
   "source": [
    "def find_cond_prob(row):\n",
    "    story_id = row['item']\n",
    "    word_id = row['zone']\n",
    "    cond_prob = None\n",
    "    search = freqs[(freqs.story_id==story_id) & (freqs.word_id==word_id) & (freqs.word_part=='word')]\n",
    "    if not search.empty:\n",
    "        cond_prob = search.iloc[0]['cond_prob']\n",
    "    return cond_prob\n",
    "\n",
    "def find_ngram_surprisal(row):\n",
    "    story_id = row['item']\n",
    "    word_id = row['zone']\n",
    "    cond_prob = None\n",
    "    search = freqs[(freqs.story_id==story_id) & (freqs.word_id==word_id) & (freqs.word_part=='word')]\n",
    "    if not search.empty:\n",
    "        cond_prob = search.iloc[0]['ngram_surprisal']\n",
    "    return cond_prob\n",
    "\n",
    "stories['ngram_prob'] = stories.apply(find_cond_prob, axis=1)\n",
    "stories['ngram_surprisal'] = stories.apply(find_ngram_surprisal, axis=1)"
   ]
  },
  {
   "cell_type": "code",
   "execution_count": 25,
   "id": "ebf8e601",
   "metadata": {},
   "outputs": [],
   "source": [
    "rts = pd.read_csv('./natural-stories/processed_RTs.tsv', sep='\\t')\n",
    "\n",
    "def find_rt(row):\n",
    "    story_id = row['item']\n",
    "    word_id = row['zone']\n",
    "\n",
    "    cond_prob = None\n",
    "    search = rts[(rts.item==story_id) & (rts.zone==word_id)]\n",
    "    if not search.empty:\n",
    "        mean_rt = search.iloc[0]['meanItemRT']\n",
    "    return mean_rt\n",
    "\n",
    "stories['mean_rt'] = stories.apply(find_rt, axis=1)"
   ]
  },
  {
   "cell_type": "code",
   "execution_count": null,
   "id": "e9b2e263",
   "metadata": {},
   "outputs": [],
   "source": [
    "wilcox_results = pd.read_csv('./data/harmonized_results.csv')\n",
    "\n",
    "def find_freq(row):\n",
    "    wilcox_code = (row['item'] * 10000) + row['zone']\n",
    "    print(wilcox_code)\n",
    "    try:\n",
    "        wilcox_row = wilcox_results[(wilcox_results.corpus == 'natural-stories') & (wilcox_results.code==wilcox_code)].iloc[0]\n",
    "        assert(row['word'] == wilcox_row['word'])\n",
    "        return wilcox_row['freq']\n",
    "    except Exception as e:\n",
    "        print(row['word'], wilcox_code, e)\n",
    "        return None\n",
    "\n",
    "stories['unigram_logprob'] = stories.apply(find_freq, axis=1)\n",
    "\n"
   ]
  },
  {
   "cell_type": "code",
   "execution_count": 27,
   "id": "5a04f2ef",
   "metadata": {},
   "outputs": [],
   "source": [
    "get_len = lambda row: len(row['stripped_words'])\n",
    "stories['len'] = stories.apply(get_len, axis=1)"
   ]
  },
  {
   "cell_type": "code",
   "execution_count": 28,
   "id": "b1c79c6b",
   "metadata": {},
   "outputs": [],
   "source": [
    "# for a given row, find the value of col_name for the word that's n items back\n",
    "def find_prev(row, col_name, n_back):\n",
    "    prev_row = stories[(stories.item==row['item']) & (stories.zone==row['zone']-n_back)]\n",
    "    if prev_row.empty:\n",
    "        return None\n",
    "    else:\n",
    "        return prev_row.iloc[0][col_name]\n",
    "    \n",
    "\n",
    "rep_cols = ['len', 'unigram_logprob', 'surprisals'] + ['surprisals_%dback'%(n_back) for n_back in range(1, 11)]\n",
    "for i in range(1, 4):\n",
    "    for col in rep_cols:\n",
    "        stories[col+'_prev'+str(i)] = stories.apply(find_prev, col_name=col, n_back=i, axis=1)"
   ]
  },
  {
   "cell_type": "markdown",
   "id": "cfb9d045",
   "metadata": {},
   "source": [
    "# actual modeling"
   ]
  },
  {
   "cell_type": "code",
   "execution_count": 29,
   "id": "23916bc7",
   "metadata": {},
   "outputs": [],
   "source": [
    "# reg_df = stories[(stories.surprisals != 0) & (stories.surprisals_oneback.notnull()) & (stories.surprisals_threeback.notnull()) & (stories.ngram_prob.notnull()) & (stories.surprisals_tenback.notnull()) & (stories.mean_rt.notnull())]\n",
    "reg_df = stories[(stories.notnull().all(axis=1)) & (stories.surprisals != 0)]"
   ]
  },
  {
   "cell_type": "code",
   "execution_count": 32,
   "id": "229e4b76",
   "metadata": {},
   "outputs": [
    {
     "name": "stderr",
     "output_type": "stream",
     "text": [
      "/var/folders/dm/33ny_1vs1wx0cs2ydxh_5x640000gn/T/ipykernel_48095/1277293519.py:1: SettingWithCopyWarning: \n",
      "A value is trying to be set on a copy of a slice from a DataFrame.\n",
      "Try using .loc[row_indexer,col_indexer] = value instead\n",
      "\n",
      "See the caveats in the documentation: https://pandas.pydata.org/pandas-docs/stable/user_guide/indexing.html#returning-a-view-versus-a-copy\n",
      "  reg_df['surprisal_diff'] = reg_df.surprisals_10back - reg_df.surprisals\n"
     ]
    },
    {
     "data": {
      "text/plain": [
       "-0.8377651319637944"
      ]
     },
     "execution_count": 32,
     "metadata": {},
     "output_type": "execute_result"
    }
   ],
   "source": [
    "reg_df['surprisal_diff'] = reg_df.surprisals_10back - reg_df.surprisals\n",
    "reg_df.surprisal_diff.mean()"
   ]
  },
  {
   "cell_type": "code",
   "execution_count": 39,
   "id": "6acbe1ee",
   "metadata": {},
   "outputs": [],
   "source": [
    "reg_df.to_pickle(\"./reg_df.pkl\")  "
   ]
  },
  {
   "cell_type": "code",
   "execution_count": 40,
   "id": "c87d3f1f",
   "metadata": {},
   "outputs": [],
   "source": [
    "import seaborn as sns\n",
    "import statsmodels.api as sm\n",
    "import statsmodels.formula.api as smf\n",
    "# reg_df = pd.read_pickle(\"./dummy.pkl\")  "
   ]
  },
  {
   "cell_type": "code",
   "execution_count": 37,
   "id": "ede01852",
   "metadata": {},
   "outputs": [
    {
     "data": {
      "image/png": "[encoded data removed]",
      "text/plain": [
       "<Figure size 432x432 with 3 Axes>"
      ]
     },
     "metadata": {
      "needs_background": "light"
     },
     "output_type": "display_data"
    }
   ],
   "source": [
    "g = sns.jointplot(x=\"surprisals_1back\", y=\"mean_rt\", data=reg_df,\n",
    "                  kind=\"reg\")"
   ]
  },
  {
   "cell_type": "code",
   "execution_count": 41,
   "id": "6a553dab",
   "metadata": {
    "scrolled": true
   },
   "outputs": [
    {
     "name": "stdout",
     "output_type": "stream",
     "text": [
      "                 Generalized Linear Model Regression Results                  \n",
      "==============================================================================\n",
      "Dep. Variable:                mean_rt   No. Observations:                 4451\n",
      "Model:                            GLM   Df Residuals:                     4443\n",
      "Model Family:                Gaussian   Df Model:                            7\n",
      "Link Function:                    Log   Scale:                          825.01\n",
      "Method:                          IRLS   Log-Likelihood:                -21257.\n",
      "Date:                Sat, 17 Sep 2022   Deviance:                   3.6655e+06\n",
      "Time:                        13:35:52   Pearson chi2:                 3.67e+06\n",
      "No. Iterations:                     6   Pseudo R-squ. (CS):             0.1694\n",
      "Covariance Type:            nonrobust                                         \n",
      "=========================================================================================\n",
      "                            coef    std err          z      P>|z|      [0.025      0.975]\n",
      "-----------------------------------------------------------------------------------------\n",
      "Intercept                 5.7658      0.012    486.825      0.000       5.743       5.789\n",
      "len                       0.0113      0.001     14.537      0.000       0.010       0.013\n",
      "len_prev1                 0.0036      0.001      4.454      0.000       0.002       0.005\n",
      "len_prev2                 0.0030      0.001      3.772      0.000       0.001       0.005\n",
      "unigram_logprob          -0.0036      0.001     -6.746      0.000      -0.005      -0.003\n",
      "unigram_logprob_prev1    -0.0037      0.001     -6.493      0.000      -0.005      -0.003\n",
      "unigram_logprob_prev2    -0.0018      0.001     -3.179      0.001      -0.003      -0.001\n",
      "unigram_logprob_prev3    -0.0008      0.000     -2.248      0.025      -0.002      -0.000\n",
      "=========================================================================================\n"
     ]
    }
   ],
   "source": [
    "# surprisals_oneback\n",
    "#formula = 'mean_rt ~ len + ngram_prob'\n",
    "formula = 'mean_rt ~ len + len_prev1 + len_prev2 + unigram_logprob + unigram_logprob_prev1 + unigram_logprob_prev2 + unigram_logprob_prev3'\n",
    "mod0 = smf.glm(formula=formula, data=reg_df, family=sm.families.Gaussian(sm.genmod.families.links.Log())).fit()\n",
    "print(mod0.summary())"
   ]
  },
  {
   "cell_type": "code",
   "execution_count": 42,
   "id": "b91bcb10",
   "metadata": {
    "scrolled": true
   },
   "outputs": [
    {
     "name": "stdout",
     "output_type": "stream",
     "text": [
      "                 Generalized Linear Model Regression Results                  \n",
      "==============================================================================\n",
      "Dep. Variable:                mean_rt   No. Observations:                 4451\n",
      "Model:                            GLM   Df Residuals:                     4439\n",
      "Model Family:                Gaussian   Df Model:                           11\n",
      "Link Function:                    Log   Scale:                          782.07\n",
      "Method:                          IRLS   Log-Likelihood:                -21136.\n",
      "Date:                Sat, 17 Sep 2022   Deviance:                   3.4716e+06\n",
      "Time:                        13:35:57   Pearson chi2:                 3.47e+06\n",
      "No. Iterations:                     7   Pseudo R-squ. (CS):             0.2224\n",
      "Covariance Type:            nonrobust                                         \n",
      "=========================================================================================\n",
      "                            coef    std err          z      P>|z|      [0.025      0.975]\n",
      "-----------------------------------------------------------------------------------------\n",
      "Intercept                 5.6781      0.014    416.814      0.000       5.651       5.705\n",
      "surprisals                0.0048      0.000     12.897      0.000       0.004       0.006\n",
      "surprisals_prev1          0.0027      0.000      6.867      0.000       0.002       0.003\n",
      "surprisals_prev2          0.0003      0.000      0.758      0.448      -0.000       0.001\n",
      "surprisals_prev3          0.0013      0.000      4.153      0.000       0.001       0.002\n",
      "len                       0.0100      0.001     13.031      0.000       0.009       0.012\n",
      "len_prev1                 0.0026      0.001      3.240      0.001       0.001       0.004\n",
      "len_prev2                 0.0029      0.001      3.687      0.000       0.001       0.004\n",
      "unigram_logprob           0.0001      0.001      0.185      0.853      -0.001       0.001\n",
      "unigram_logprob_prev1    -0.0022      0.001     -3.473      0.001      -0.003      -0.001\n",
      "unigram_logprob_prev2    -0.0018      0.001     -2.909      0.004      -0.003      -0.001\n",
      "unigram_logprob_prev3     0.0002      0.000      0.403      0.687      -0.001       0.001\n",
      "=========================================================================================\n"
     ]
    }
   ],
   "source": [
    "# surprisals\n",
    "formula = 'mean_rt ~ surprisals + surprisals_prev1 + surprisals_prev2 + surprisals_prev3 + len + len_prev1 + len_prev2 + unigram_logprob + unigram_logprob_prev1 + unigram_logprob_prev2 + unigram_logprob_prev3'\n",
    "mod1 = smf.glm(formula=formula, data=reg_df, family=sm.families.Gaussian(sm.genmod.families.links.Log())).fit()\n",
    "print(mod1.summary())"
   ]
  },
  {
   "cell_type": "code",
   "execution_count": 45,
   "id": "aaaaa167",
   "metadata": {},
   "outputs": [
    {
     "name": "stdout",
     "output_type": "stream",
     "text": [
      "                 Generalized Linear Model Regression Results                  \n",
      "==============================================================================\n",
      "Dep. Variable:                mean_rt   No. Observations:                 4451\n",
      "Model:                            GLM   Df Residuals:                     4438\n",
      "Model Family:                Gaussian   Df Model:                           12\n",
      "Link Function:                    Log   Scale:                          770.53\n",
      "Method:                          IRLS   Log-Likelihood:                -21102.\n",
      "Date:                Sat, 17 Sep 2022   Deviance:                   3.4196e+06\n",
      "Time:                        13:37:19   Pearson chi2:                 3.42e+06\n",
      "No. Iterations:                     7   Pseudo R-squ. (CS):             0.2370\n",
      "Covariance Type:            nonrobust                                         \n",
      "==========================================================================================\n",
      "                             coef    std err          z      P>|z|      [0.025      0.975]\n",
      "------------------------------------------------------------------------------------------\n",
      "Intercept                  5.6626      0.013    423.348      0.000       5.636       5.689\n",
      "surprisals_1back           0.0052      0.000     14.251      0.000       0.005       0.006\n",
      "surprisals_1back_prev1     0.0031      0.000      8.044      0.000       0.002       0.004\n",
      "surprisals_1back_prev2     0.0010      0.000      2.689      0.007       0.000       0.002\n",
      "surprisals_1back_prev3     0.0008      0.000      2.194      0.028    8.86e-05       0.002\n",
      "len                        0.0095      0.001     12.300      0.000       0.008       0.011\n",
      "len_prev1                  0.0025      0.001      3.087      0.002       0.001       0.004\n",
      "len_prev2                  0.0029      0.001      3.673      0.000       0.001       0.004\n",
      "len_prev3                  0.0029      0.001      4.013      0.000       0.001       0.004\n",
      "unigram_logprob           -0.0003      0.001     -0.541      0.589      -0.001       0.001\n",
      "unigram_logprob_prev1     -0.0021      0.001     -3.534      0.000      -0.003      -0.001\n",
      "unigram_logprob_prev2     -0.0013      0.001     -2.185      0.029      -0.002      -0.000\n",
      "unigram_logprob_prev3      0.0007      0.000      1.466      0.143      -0.000       0.002\n",
      "==========================================================================================\n"
     ]
    }
   ],
   "source": [
    "# surprisals_oneback\n",
    "formula = 'mean_rt ~ surprisals_1back + surprisals_1back_prev1 + surprisals_1back_prev1 + surprisals_1back_prev2 + surprisals_1back_prev3 + len + len_prev1 + len_prev2 + len_prev3 + unigram_logprob + unigram_logprob_prev1 + unigram_logprob_prev2 + unigram_logprob_prev3'\n",
    "mod2 = smf.glm(formula=formula, data=reg_df, family=sm.families.Gaussian(sm.genmod.families.links.Log())).fit()\n",
    "print(mod2.summary())"
   ]
  },
  {
   "cell_type": "code",
   "execution_count": 46,
   "id": "f224727d",
   "metadata": {},
   "outputs": [
    {
     "name": "stdout",
     "output_type": "stream",
     "text": [
      "                 Generalized Linear Model Regression Results                  \n",
      "==============================================================================\n",
      "Dep. Variable:                mean_rt   No. Observations:                 4451\n",
      "Model:                            GLM   Df Residuals:                     4438\n",
      "Model Family:                Gaussian   Df Model:                           12\n",
      "Link Function:                    Log   Scale:                          761.13\n",
      "Method:                          IRLS   Log-Likelihood:                -21075.\n",
      "Date:                Sat, 17 Sep 2022   Deviance:                   3.3779e+06\n",
      "Time:                        13:37:48   Pearson chi2:                 3.38e+06\n",
      "No. Iterations:                     7   Pseudo R-squ. (CS):             0.2488\n",
      "Covariance Type:            nonrobust                                         \n",
      "==========================================================================================\n",
      "                             coef    std err          z      P>|z|      [0.025      0.975]\n",
      "------------------------------------------------------------------------------------------\n",
      "Intercept                  5.6569      0.013    430.106      0.000       5.631       5.683\n",
      "surprisals_3back           0.0055      0.000     15.183      0.000       0.005       0.006\n",
      "surprisals_3back_prev1     0.0035      0.000      9.291      0.000       0.003       0.004\n",
      "surprisals_3back_prev2     0.0015      0.000      4.065      0.000       0.001       0.002\n",
      "surprisals_3back_prev3     0.0012      0.000      3.238      0.001       0.000       0.002\n",
      "len                        0.0091      0.001     11.906      0.000       0.008       0.011\n",
      "len_prev1                  0.0023      0.001      2.924      0.003       0.001       0.004\n",
      "len_prev2                  0.0029      0.001      3.643      0.000       0.001       0.004\n",
      "len_prev3                  0.0028      0.001      3.948      0.000       0.001       0.004\n",
      "unigram_logprob           -0.0006      0.001     -1.137      0.255      -0.002       0.000\n",
      "unigram_logprob_prev1     -0.0020      0.001     -3.504      0.000      -0.003      -0.001\n",
      "unigram_logprob_prev2     -0.0010      0.001     -1.782      0.075      -0.002       0.000\n",
      "unigram_logprob_prev3      0.0009      0.000      1.918      0.055   -1.89e-05       0.002\n",
      "==========================================================================================\n"
     ]
    }
   ],
   "source": [
    "# surprisals_threeback\n",
    "formula = 'mean_rt ~ surprisals_3back + surprisals_3back_prev1 + surprisals_3back_prev2 + surprisals_3back_prev3 + len + len_prev1 + len_prev2 + len_prev3 + unigram_logprob + unigram_logprob_prev1 + unigram_logprob_prev2 + unigram_logprob_prev3'\n",
    "mod3 = smf.glm(formula=formula, data=reg_df, family=sm.families.Gaussian(sm.genmod.families.links.Log())).fit()\n",
    "print(mod3.summary())"
   ]
  },
  {
   "cell_type": "code",
   "execution_count": 47,
   "id": "017eb408",
   "metadata": {},
   "outputs": [
    {
     "name": "stdout",
     "output_type": "stream",
     "text": [
      "                 Generalized Linear Model Regression Results                  \n",
      "==============================================================================\n",
      "Dep. Variable:                mean_rt   No. Observations:                 4451\n",
      "Model:                            GLM   Df Residuals:                     4438\n",
      "Model Family:                Gaussian   Df Model:                           12\n",
      "Link Function:                    Log   Scale:                          759.96\n",
      "Method:                          IRLS   Log-Likelihood:                -21072.\n",
      "Date:                Sat, 17 Sep 2022   Deviance:                   3.3727e+06\n",
      "Time:                        13:38:04   Pearson chi2:                 3.37e+06\n",
      "No. Iterations:                     7   Pseudo R-squ. (CS):             0.2503\n",
      "Covariance Type:            nonrobust                                         \n",
      "===========================================================================================\n",
      "                              coef    std err          z      P>|z|      [0.025      0.975]\n",
      "-------------------------------------------------------------------------------------------\n",
      "Intercept                   5.6623      0.013    435.231      0.000       5.637       5.688\n",
      "surprisals_10back           0.0058      0.000     15.585      0.000       0.005       0.006\n",
      "surprisals_10back_prev1     0.0036      0.000      9.528      0.000       0.003       0.004\n",
      "surprisals_10back_prev2     0.0015      0.000      3.974      0.000       0.001       0.002\n",
      "surprisals_10back_prev3     0.0012      0.000      3.054      0.002       0.000       0.002\n",
      "len                         0.0085      0.001     11.057      0.000       0.007       0.010\n",
      "len_prev1                   0.0021      0.001      2.650      0.008       0.001       0.004\n",
      "len_prev2                   0.0029      0.001      3.608      0.000       0.001       0.004\n",
      "len_prev3                   0.0030      0.001      4.153      0.000       0.002       0.004\n",
      "unigram_logprob            -0.0010      0.001     -1.906      0.057      -0.002    2.93e-05\n",
      "unigram_logprob_prev1      -0.0021      0.001     -3.596      0.000      -0.003      -0.001\n",
      "unigram_logprob_prev2      -0.0010      0.001     -1.756      0.079      -0.002       0.000\n",
      "unigram_logprob_prev3       0.0010      0.000      2.221      0.026       0.000       0.002\n",
      "===========================================================================================\n"
     ]
    }
   ],
   "source": [
    "# surprisals_tenback\n",
    "formula = 'mean_rt ~ surprisals_10back + surprisals_10back_prev1 + surprisals_10back_prev2 + surprisals_10back_prev3 + len + len_prev1 + len_prev2 + len_prev3 + unigram_logprob + unigram_logprob_prev1 + unigram_logprob_prev2 + unigram_logprob_prev3'\n",
    "mod4 = smf.glm(formula=formula, data=reg_df, family=sm.families.Gaussian(sm.genmod.families.links.Log())).fit()\n",
    "print(mod4.summary())"
   ]
  },
  {
   "cell_type": "code",
   "execution_count": 52,
   "id": "ef435335",
   "metadata": {},
   "outputs": [
    {
     "name": "stdout",
     "output_type": "stream",
     "text": [
      "delta LL per word, 0-sents-back 0.027178797755254353\n",
      "delta LL per word, 1-sents-back 0.034720917333819594\n",
      "delta LL per word, 3-sents-back 0.040861336458759945\n",
      "delta LL per word, 10-sents-back 0.0416276693104124\n"
     ]
    }
   ],
   "source": [
    "print('delta LL per word, 0-sents-back ' + str((mod1.llf - mod0.llf) / mod0.nobs))\n",
    "print('delta LL per word, 1-sents-back ' + str((mod2.llf - mod0.llf) / mod0.nobs))\n",
    "print('delta LL per word, 3-sents-back ' + str((mod3.llf - mod0.llf) / mod0.nobs))\n",
    "print('delta LL per word, 10-sents-back ' + str((mod4.llf - mod0.llf) / mod0.nobs))"
   ]
  },
  {
   "cell_type": "code",
   "execution_count": null,
   "id": "5d740467",
   "metadata": {},
   "outputs": [],
   "source": []
  }
 ],
 "metadata": {
  "kernelspec": {
   "display_name": "Python 3 (ipykernel)",
   "language": "python",
   "name": "python3"
  },
  "language_info": {
   "codemirror_mode": {
    "name": "ipython",
    "version": 3
   },
   "file_extension": ".py",
   "mimetype": "text/x-python",
   "name": "python",
   "nbconvert_exporter": "python",
   "pygments_lexer": "ipython3",
   "version": "3.9.13"
  }
 },
 "nbformat": 4,
 "nbformat_minor": 5
}
